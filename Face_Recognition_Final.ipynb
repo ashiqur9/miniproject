{
  "nbformat": 4,
  "nbformat_minor": 0,
  "metadata": {
    "colab": {
      "name": "Face Recognition Final ",
      "provenance": [],
      "collapsed_sections": [],
      "mount_file_id": "1-PdGhaNYkIDKvWlRgPzGq-Xvn4dKlIks",
      "authorship_tag": "ABX9TyNLhqRaODY/4WePXpzInImB",
      "include_colab_link": true
    },
    "kernelspec": {
      "name": "python3",
      "display_name": "Python 3"
    },
    "accelerator": "GPU"
  },
  "cells": [
    {
      "cell_type": "markdown",
      "metadata": {
        "id": "view-in-github",
        "colab_type": "text"
      },
      "source": [
        "<a href=\"https://colab.research.google.com/github/ashiqur9/miniproject/blob/master/Face_Recognition_Final.ipynb\" target=\"_parent\"><img src=\"https://colab.research.google.com/assets/colab-badge.svg\" alt=\"Open In Colab\"/></a>"
      ]
    },
    {
      "cell_type": "code",
      "metadata": {
        "id": "YZzIz_v7GTuO",
        "colab_type": "code",
        "colab": {}
      },
      "source": [
        "#import Necessary modeule \n",
        "from tensorflow import keras\n",
        " \n",
        "from tensorflow.keras.layers import Flatten, Dense, Input, AveragePooling2D, MaxPooling2D, Conv2D, Dropout, BatchNormalization\n",
        " \n",
        "import pandas as pd\n",
        " \n",
        "from tensorflow.keras.regularizers import l2"
      ],
      "execution_count": 0,
      "outputs": []
    },
    {
      "cell_type": "code",
      "metadata": {
        "id": "M9_B4XdnOevw",
        "colab_type": "code",
        "colab": {}
      },
      "source": [
        "\n",
        "#Read Dataset\n",
        "data=pd.read_pickle('/content/drive/My Drive/Dataset/Avengers.pkl')"
      ],
      "execution_count": 0,
      "outputs": []
    },
    {
      "cell_type": "code",
      "metadata": {
        "id": "fWVC2QdnOfcN",
        "colab_type": "code",
        "colab": {}
      },
      "source": [
        "\n",
        "#Load Dataset\n",
        "x_train=data['train_images']\n",
        "y_train=data['train_labels']\n",
        "x_test=data['test_images']\n",
        "y_test=data['test_labels']\n",
        "target=data['target']"
      ],
      "execution_count": 0,
      "outputs": []
    },
    {
      "cell_type": "code",
      "metadata": {
        "id": "X420Y0ZAPYPn",
        "colab_type": "code",
        "outputId": "005d33f5-a961-4e6e-a1ca-69789a1e4b71",
        "colab": {
          "base_uri": "https://localhost:8080/",
          "height": 34
        }
      },
      "source": [
        "x_train.shape"
      ],
      "execution_count": 0,
      "outputs": [
        {
          "output_type": "execute_result",
          "data": {
            "text/plain": [
              "(51435, 128, 128, 3)"
            ]
          },
          "metadata": {
            "tags": []
          },
          "execution_count": 15
        }
      ]
    },
    {
      "cell_type": "code",
      "metadata": {
        "id": "BvA5XCB8HDeh",
        "colab_type": "code",
        "colab": {}
      },
      "source": [
        "#Construct Sequential Model \n",
        "model =keras.models.Sequential()\n",
        " \n",
        "model.add(Input(shape=x_train[0].shape))\n",
        " \n",
        "model.add(Conv2D(32,kernel_size=(3,3) ))\n",
        " \n",
        "model.add(keras.layers.BatchNormalization())\n",
        " \n",
        "model.add(keras.layers.Activation(keras.activations.elu))\n",
        " \n",
        "model.add(AveragePooling2D(2))\n",
        " \n",
        "model.add(Conv2D(64,kernel_size=(2,2)))\n",
        " \n",
        "model.add(keras.layers.BatchNormalization())\n",
        " \n",
        "model.add(keras.layers.Activation(keras.activations.elu))\n",
        " \n",
        "model.add(AveragePooling2D(2))\n",
        " \n",
        "model.add(Conv2D(128,kernel_size=(2,2)))\n",
        " \n",
        "model.add(keras.layers.BatchNormalization())\n",
        " \n",
        "model.add(keras.layers.Activation(keras.activations.elu))\n",
        " \n",
        "model.add(AveragePooling2D(2))\n",
        " \n",
        "model.add(Conv2D(256,kernel_size=(2,2) ))\n",
        " \n",
        "model.add(keras.layers.BatchNormalization())\n",
        " \n",
        "model.add(keras.layers.Activation(keras.activations.elu))\n",
        " \n",
        "model.add(AveragePooling2D(2))\n",
        " \n",
        "model.add(Dropout(0.5))\n",
        " \n",
        "model.add(Flatten())\n",
        " \n",
        "model.add(Dense(4000,kernel_initializer='he_normal'))\n",
        " \n",
        "model.add(Dropout(0.5))\n",
        " \n",
        "model.add(Dense(400,kernel_initializer='he_normal'))\n",
        " \n",
        "model.add(Dense(7,activation='softmax'))"
      ],
      "execution_count": 0,
      "outputs": []
    },
    {
      "cell_type": "code",
      "metadata": {
        "id": "RGf33xxPHIFm",
        "colab_type": "code",
        "outputId": "5e2064a1-8e83-43a6-e95d-0c4c57b95426",
        "colab": {
          "base_uri": "https://localhost:8080/",
          "height": 926
        }
      },
      "source": [
        "model.summary()"
      ],
      "execution_count": 0,
      "outputs": [
        {
          "output_type": "stream",
          "text": [
            "Model: \"sequential_2\"\n",
            "_________________________________________________________________\n",
            "Layer (type)                 Output Shape              Param #   \n",
            "=================================================================\n",
            "conv2d_4 (Conv2D)            (None, 126, 126, 32)      896       \n",
            "_________________________________________________________________\n",
            "batch_normalization_4 (Batch (None, 126, 126, 32)      128       \n",
            "_________________________________________________________________\n",
            "activation_4 (Activation)    (None, 126, 126, 32)      0         \n",
            "_________________________________________________________________\n",
            "average_pooling2d_4 (Average (None, 63, 63, 32)        0         \n",
            "_________________________________________________________________\n",
            "conv2d_5 (Conv2D)            (None, 62, 62, 64)        8256      \n",
            "_________________________________________________________________\n",
            "batch_normalization_5 (Batch (None, 62, 62, 64)        256       \n",
            "_________________________________________________________________\n",
            "activation_5 (Activation)    (None, 62, 62, 64)        0         \n",
            "_________________________________________________________________\n",
            "average_pooling2d_5 (Average (None, 31, 31, 64)        0         \n",
            "_________________________________________________________________\n",
            "conv2d_6 (Conv2D)            (None, 30, 30, 128)       32896     \n",
            "_________________________________________________________________\n",
            "batch_normalization_6 (Batch (None, 30, 30, 128)       512       \n",
            "_________________________________________________________________\n",
            "activation_6 (Activation)    (None, 30, 30, 128)       0         \n",
            "_________________________________________________________________\n",
            "average_pooling2d_6 (Average (None, 15, 15, 128)       0         \n",
            "_________________________________________________________________\n",
            "conv2d_7 (Conv2D)            (None, 14, 14, 256)       131328    \n",
            "_________________________________________________________________\n",
            "batch_normalization_7 (Batch (None, 14, 14, 256)       1024      \n",
            "_________________________________________________________________\n",
            "activation_7 (Activation)    (None, 14, 14, 256)       0         \n",
            "_________________________________________________________________\n",
            "average_pooling2d_7 (Average (None, 7, 7, 256)         0         \n",
            "_________________________________________________________________\n",
            "dropout_2 (Dropout)          (None, 7, 7, 256)         0         \n",
            "_________________________________________________________________\n",
            "flatten_1 (Flatten)          (None, 12544)             0         \n",
            "_________________________________________________________________\n",
            "dense_3 (Dense)              (None, 4000)              50180000  \n",
            "_________________________________________________________________\n",
            "dropout_3 (Dropout)          (None, 4000)              0         \n",
            "_________________________________________________________________\n",
            "dense_4 (Dense)              (None, 400)               1600400   \n",
            "_________________________________________________________________\n",
            "dense_5 (Dense)              (None, 7)                 2807      \n",
            "=================================================================\n",
            "Total params: 51,958,503\n",
            "Trainable params: 51,957,543\n",
            "Non-trainable params: 960\n",
            "_________________________________________________________________\n"
          ],
          "name": "stdout"
        }
      ]
    },
    {
      "cell_type": "code",
      "metadata": {
        "id": "VDol-vpuJpGg",
        "colab_type": "code",
        "colab": {}
      },
      "source": [
        "\n",
        "#Compile Model\n",
        "model.compile(loss=keras.losses.categorical_crossentropy,\n",
        "optimizer=keras.optimizers.Nadam() ,\n",
        "metrics=['accuracy'])"
      ],
      "execution_count": 0,
      "outputs": []
    },
    {
      "cell_type": "code",
      "metadata": {
        "id": "Doo77AfeOc8C",
        "colab_type": "code",
        "colab": {}
      },
      "source": [
        "\n",
        "#Callbacks\n",
        "  my_callbacks = [\n",
        "    keras.callbacks.EarlyStopping(patience=5, restore_best_weights=True),\n",
        "    keras.callbacks.ModelCheckpoint(filepath='/content/drive/My Drive/Dataset/modelface.h5')\n",
        "]"
      ],
      "execution_count": 0,
      "outputs": []
    },
    {
      "cell_type": "code",
      "metadata": {
        "id": "PNciiJ5VP4WS",
        "colab_type": "code",
        "outputId": "b1f04b60-df3d-49a4-b378-3a142e0c50a7",
        "colab": {
          "base_uri": "https://localhost:8080/",
          "height": 584
        }
      },
      "source": [
        "#Fit the model \n",
        "history=model.fit(x_train,y_train,epochs=25,batch_size=32,validation_data=(x_test,y_test),callbacks=my_callbacks,verbose=1)"
      ],
      "execution_count": 0,
      "outputs": [
        {
          "output_type": "stream",
          "text": [
            "Epoch 1/25\n",
            "1608/1608 [==============================] - 60s 38ms/step - loss: 2.9086 - accuracy: 0.6341 - val_loss: 0.5056 - val_accuracy: 0.7857\n",
            "Epoch 2/25\n",
            "1608/1608 [==============================] - 60s 37ms/step - loss: 0.7639 - accuracy: 0.7591 - val_loss: 0.5464 - val_accuracy: 0.8143\n",
            "Epoch 3/25\n",
            "1608/1608 [==============================] - 60s 37ms/step - loss: 0.7304 - accuracy: 0.7942 - val_loss: 0.3134 - val_accuracy: 0.8810\n",
            "Epoch 4/25\n",
            "1608/1608 [==============================] - 60s 38ms/step - loss: 0.8347 - accuracy: 0.8082 - val_loss: 0.5788 - val_accuracy: 0.8810\n",
            "Epoch 5/25\n",
            "1608/1608 [==============================] - 60s 37ms/step - loss: 0.7489 - accuracy: 0.8420 - val_loss: 0.2242 - val_accuracy: 0.9143\n",
            "Epoch 6/25\n",
            "1608/1608 [==============================] - 60s 37ms/step - loss: 0.6138 - accuracy: 0.8645 - val_loss: 0.9542 - val_accuracy: 0.9048\n",
            "Epoch 7/25\n",
            "1608/1608 [==============================] - 61s 38ms/step - loss: 0.4433 - accuracy: 0.8889 - val_loss: 0.2113 - val_accuracy: 0.9333\n",
            "Epoch 8/25\n",
            "1608/1608 [==============================] - 60s 38ms/step - loss: 0.3224 - accuracy: 0.9077 - val_loss: 0.6415 - val_accuracy: 0.8286\n",
            "Epoch 9/25\n",
            "1608/1608 [==============================] - 60s 38ms/step - loss: 0.2571 - accuracy: 0.9209 - val_loss: 0.2876 - val_accuracy: 0.8952\n",
            "Epoch 10/25\n",
            "1608/1608 [==============================] - 60s 38ms/step - loss: 0.2267 - accuracy: 0.9284 - val_loss: 0.2246 - val_accuracy: 0.9476\n",
            "Epoch 11/25\n",
            "1608/1608 [==============================] - 61s 38ms/step - loss: 0.2236 - accuracy: 0.9315 - val_loss: 0.1050 - val_accuracy: 0.9667\n",
            "Epoch 12/25\n",
            "1608/1608 [==============================] - 60s 37ms/step - loss: 0.2140 - accuracy: 0.9339 - val_loss: 0.1809 - val_accuracy: 0.9571\n",
            "Epoch 13/25\n",
            "1608/1608 [==============================] - 61s 38ms/step - loss: 0.2085 - accuracy: 0.9371 - val_loss: 0.1375 - val_accuracy: 0.9429\n",
            "Epoch 14/25\n",
            "1608/1608 [==============================] - 61s 38ms/step - loss: 0.2078 - accuracy: 0.9390 - val_loss: 0.1796 - val_accuracy: 0.9333\n",
            "Epoch 15/25\n",
            "1608/1608 [==============================] - 60s 37ms/step - loss: 0.2006 - accuracy: 0.9437 - val_loss: 0.2022 - val_accuracy: 0.9381\n",
            "Epoch 16/25\n",
            "1608/1608 [==============================] - 60s 38ms/step - loss: 0.1976 - accuracy: 0.9453 - val_loss: 0.1362 - val_accuracy: 0.9667\n"
          ],
          "name": "stdout"
        }
      ]
    },
    {
      "cell_type": "code",
      "metadata": {
        "id": "pFZTLHmlP-IN",
        "colab_type": "code",
        "colab": {}
      },
      "source": [
        " model.save('/content/drive/My Drive/Dataset/Avengers.h5')"
      ],
      "execution_count": 0,
      "outputs": []
    },
    {
      "cell_type": "code",
      "metadata": {
        "id": "aw-SP1eTP-an",
        "colab_type": "code",
        "outputId": "a03ae1aa-3058-40e2-94e6-1471fc364480",
        "colab": {
          "base_uri": "https://localhost:8080/",
          "height": 488
        }
      },
      "source": [
        "#Visualize Accuracy and loss \n",
        "import matplotlib.pyplot as plt\n",
        "print(history.history.keys())\n",
        "# summarize history for accuracy\n",
        "plt.plot(history.history['accuracy'])\n",
        "plt.plot(history.history['val_accuracy'])\n",
        "plt.title('model accuracy')\n",
        "plt.ylabel('accuracy')\n",
        "plt.xlabel('epoch')\n",
        "plt.legend(['train', 'test'], loc='upper left')\n",
        "plt.show()\n",
        "# summarize history for loss\n",
        "plt.plot(history.history['loss'])\n",
        "plt.plot(history.history['val_loss'])\n",
        "plt.title('model loss')\n",
        "plt.ylabel('loss')\n",
        "plt.xlabel('epoch')\n",
        "plt.legend(['train', 'test'], loc='upper left')\n",
        "plt.show()"
      ],
      "execution_count": 0,
      "outputs": [
        {
          "output_type": "stream",
          "text": [
            "dict_keys(['loss', 'accuracy', 'val_loss', 'val_accuracy'])\n"
          ],
          "name": "stdout"
        },
        {
          "output_type": "display_data",
          "data": {
            "image/png": "[encoded data removed]",
            "text/plain": [
              "<Figure size 432x288 with 1 Axes>"
            ]
          },
          "metadata": {
            "tags": [],
            "needs_background": "light"
          }
        },
        {
          "output_type": "display_data",
          "data": {
            "image/png": "[encoded data removed]",
            "text/plain": [
              "<Figure size 432x288 with 1 Axes>"
            ]
          },
          "metadata": {
            "tags": [],
            "needs_background": "light"
          }
        }
      ]
    }
  ]
}